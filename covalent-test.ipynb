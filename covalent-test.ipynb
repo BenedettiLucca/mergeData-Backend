{
 "cells": [
  {
   "cell_type": "code",
   "execution_count": 1,
   "metadata": {},
   "outputs": [],
   "source": [
    "import requests"
   ]
  },
  {
   "cell_type": "code",
   "execution_count": 2,
   "metadata": {},
   "outputs": [],
   "source": [
    "API_KEY = 'ckey_0bb6c7519ec84b1faba605a9c59'\n",
    "base_url = 'https://api.covalenthq.com/v1'\n",
    "blockchain_chain_id = '1'\n",
    "block = 'latest'"
   ]
  },
  {
   "cell_type": "code",
   "execution_count": 3,
   "metadata": {},
   "outputs": [],
   "source": [
    "from unittest import result\n",
    "\n",
    "\n",
    "def get_block(chain_id, height):\n",
    "    endpoint = f'/{chain_id}/block_v2/{height}/?key={API_KEY}'\n",
    "    url = base_url + endpoint\n",
    "    result = requests.get(url).json()\n",
    "    return(result)"
   ]
  },
  {
   "cell_type": "code",
   "execution_count": 4,
   "metadata": {},
   "outputs": [
    {
     "data": {
      "text/plain": [
       "{'data': {'updated_at': '2022-09-14T19:50:43.913476857Z',\n",
       "  'items': [{'signed_at': '2022-09-14T19:50:00Z', 'height': 15534748}],\n",
       "  'pagination': None},\n",
       " 'error': False,\n",
       " 'error_message': None,\n",
       " 'error_code': None}"
      ]
     },
     "execution_count": 4,
     "metadata": {},
     "output_type": "execute_result"
    }
   ],
   "source": [
    "get_block(blockchain_chain_id, block)"
   ]
  }
 ],
 "metadata": {
  "kernelspec": {
   "display_name": "Python 3.10.7 ('.venv': venv)",
   "language": "python",
   "name": "python3"
  },
  "language_info": {
   "codemirror_mode": {
    "name": "ipython",
    "version": 3
   },
   "file_extension": ".py",
   "mimetype": "text/x-python",
   "name": "python",
   "nbconvert_exporter": "python",
   "pygments_lexer": "ipython3",
   "version": "3.10.7"
  },
  "orig_nbformat": 4,
  "vscode": {
   "interpreter": {
    "hash": "74960999184c95745ad684ae91b2173d7b2f53d4104e576afb991146a16cb254"
   }
  }
 },
 "nbformat": 4,
 "nbformat_minor": 2
}
